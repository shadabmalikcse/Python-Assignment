{
  "nbformat": 4,
  "nbformat_minor": 0,
  "metadata": {
    "colab": {
      "provenance": [],
      "authorship_tag": "ABX9TyMknwcA1F2fBl5YumMjoMqQ",
      "include_colab_link": true
    },
    "kernelspec": {
      "name": "python3",
      "display_name": "Python 3"
    },
    "language_info": {
      "name": "python"
    }
  },
  "cells": [
    {
      "cell_type": "markdown",
      "metadata": {
        "id": "view-in-github",
        "colab_type": "text"
      },
      "source": [
        "<a href=\"https://colab.research.google.com/github/shadabmalikcse/Python-Assignment/blob/main/Python_Assignment.ipynb\" target=\"_parent\"><img src=\"https://colab.research.google.com/assets/colab-badge.svg\" alt=\"Open In Colab\"/></a>"
      ]
    },
    {
      "cell_type": "markdown",
      "source": [
        "# **Question 1**"
      ],
      "metadata": {
        "id": "XM47E0g_5kDI"
      }
    },
    {
      "cell_type": "code",
      "source": [
        "L=[11,12,13,14]\n",
        "print(L)"
      ],
      "metadata": {
        "colab": {
          "base_uri": "https://localhost:8080/"
        },
        "id": "0XURmtwW5ZqA",
        "outputId": "709756ed-e2c6-407a-ede2-9fe5aab87f7c"
      },
      "execution_count": null,
      "outputs": [
        {
          "output_type": "stream",
          "name": "stdout",
          "text": [
            "[11, 12, 13, 14]\n"
          ]
        }
      ]
    },
    {
      "cell_type": "markdown",
      "source": [
        "(i) WAP to add 50 and 60 to L"
      ],
      "metadata": {
        "id": "w2h4KLtC5vgV"
      }
    },
    {
      "cell_type": "code",
      "source": [
        "L.append(50)\n",
        "L.append(60)\n",
        "print(L)"
      ],
      "metadata": {
        "colab": {
          "base_uri": "https://localhost:8080/"
        },
        "id": "nQ9HwTU0515K",
        "outputId": "bebea242-6ecd-4a29-8372-e60356cb0098"
      },
      "execution_count": null,
      "outputs": [
        {
          "output_type": "stream",
          "name": "stdout",
          "text": [
            "[11, 12, 13, 14, 50, 60]\n"
          ]
        }
      ]
    },
    {
      "cell_type": "markdown",
      "source": [
        "(ii)WAP to remove 11 and 13 from L"
      ],
      "metadata": {
        "id": "a-5GuZ676H-N"
      }
    },
    {
      "cell_type": "code",
      "source": [
        "L.remove(11)\n",
        "L.remove(13)\n",
        "print(L)"
      ],
      "metadata": {
        "colab": {
          "base_uri": "https://localhost:8080/"
        },
        "id": "A10DmZKA6RzW",
        "outputId": "967ec7fc-4ae9-4a9e-89dd-bf980a1b9d17"
      },
      "execution_count": null,
      "outputs": [
        {
          "output_type": "stream",
          "name": "stdout",
          "text": [
            "[12, 14, 50, 60]\n"
          ]
        }
      ]
    },
    {
      "cell_type": "markdown",
      "source": [
        "(iii)WAP to sort L in ascending order"
      ],
      "metadata": {
        "id": "7hTYVRCM7H1m"
      }
    },
    {
      "cell_type": "code",
      "source": [
        "L.sort()\n",
        "print(L)"
      ],
      "metadata": {
        "colab": {
          "base_uri": "https://localhost:8080/"
        },
        "id": "soSJVMnh7Olr",
        "outputId": "1c01aa30-5d96-4b09-dfbf-a0e9b3f9b826"
      },
      "execution_count": null,
      "outputs": [
        {
          "output_type": "stream",
          "name": "stdout",
          "text": [
            "[12, 14, 50, 60]\n"
          ]
        }
      ]
    },
    {
      "cell_type": "markdown",
      "source": [
        "(iv) WAP to sort L in descending order"
      ],
      "metadata": {
        "id": "f4JVhsfp7U2a"
      }
    },
    {
      "cell_type": "code",
      "source": [
        "L.sort(reverse=True)\n",
        "print(L)"
      ],
      "metadata": {
        "colab": {
          "base_uri": "https://localhost:8080/"
        },
        "id": "pOT9sp_d7adp",
        "outputId": "b5599b27-e20f-4a1b-ad23-3d03a26b8f50"
      },
      "execution_count": null,
      "outputs": [
        {
          "output_type": "stream",
          "name": "stdout",
          "text": [
            "[60, 50, 14, 12]\n"
          ]
        }
      ]
    },
    {
      "cell_type": "markdown",
      "source": [
        "(v) WAP for search 13 in L"
      ],
      "metadata": {
        "id": "L3EfBXBq7hmX"
      }
    },
    {
      "cell_type": "code",
      "source": [
        "if(13 in L):\n",
        "  print('Present')\n",
        "else:\n",
        "  print('Not present')"
      ],
      "metadata": {
        "colab": {
          "base_uri": "https://localhost:8080/"
        },
        "id": "SkLEn26h7mRC",
        "outputId": "ad994970-3047-4b03-e3bf-9944122b1b01"
      },
      "execution_count": null,
      "outputs": [
        {
          "output_type": "stream",
          "name": "stdout",
          "text": [
            "Not present\n"
          ]
        }
      ]
    },
    {
      "cell_type": "markdown",
      "source": [
        "(vi) WAP to count number of elements in L"
      ],
      "metadata": {
        "id": "13BmK1W173AW"
      }
    },
    {
      "cell_type": "code",
      "source": [
        "print(len(L))"
      ],
      "metadata": {
        "colab": {
          "base_uri": "https://localhost:8080/"
        },
        "id": "SDAgUJSh7_7r",
        "outputId": "f307132f-c817-49ee-f11b-87f387528d08"
      },
      "execution_count": null,
      "outputs": [
        {
          "output_type": "stream",
          "name": "stdout",
          "text": [
            "4\n"
          ]
        }
      ]
    },
    {
      "cell_type": "markdown",
      "source": [
        "(vii) WAP to sum all elements in list"
      ],
      "metadata": {
        "id": "cByBVUGV8EIW"
      }
    },
    {
      "cell_type": "code",
      "source": [
        "print('Sum is ',sum(L))"
      ],
      "metadata": {
        "colab": {
          "base_uri": "https://localhost:8080/"
        },
        "id": "DJTThJ4m8Lce",
        "outputId": "da884c7b-b743-4cc2-fa35-83fa5e6f20e0"
      },
      "execution_count": null,
      "outputs": [
        {
          "output_type": "stream",
          "name": "stdout",
          "text": [
            "Sum is  136\n"
          ]
        }
      ]
    },
    {
      "cell_type": "markdown",
      "source": [
        "(viii) WAP to sum all odd numbers in the list"
      ],
      "metadata": {
        "id": "FGrEnZW_8QoC"
      }
    },
    {
      "cell_type": "code",
      "source": [
        "s=0\n",
        "for i in L:\n",
        "  if(i%2!=0):\n",
        "    s+=i\n",
        "print('Sum is ',s)"
      ],
      "metadata": {
        "colab": {
          "base_uri": "https://localhost:8080/"
        },
        "id": "FgvnqZcP8ZVP",
        "outputId": "9e7c2692-e6e6-4bf1-e2b2-9e6d13d3cdf9"
      },
      "execution_count": null,
      "outputs": [
        {
          "output_type": "stream",
          "name": "stdout",
          "text": [
            "Sum is  0\n"
          ]
        }
      ]
    },
    {
      "cell_type": "markdown",
      "source": [
        "(ix) WAP to sum all even numbers in the list"
      ],
      "metadata": {
        "id": "sPLEnJsl9O2d"
      }
    },
    {
      "cell_type": "code",
      "source": [
        "s=0\n",
        "for i in L:\n",
        "  if(i%2==0):\n",
        "    s+=i\n",
        "print('Sum is ',s)"
      ],
      "metadata": {
        "colab": {
          "base_uri": "https://localhost:8080/"
        },
        "outputId": "7f74ed8f-d1a0-4472-cac9-44f634bbff72",
        "id": "Ph1rld2u9XNk"
      },
      "execution_count": null,
      "outputs": [
        {
          "output_type": "stream",
          "name": "stdout",
          "text": [
            "Sum is  136\n"
          ]
        }
      ]
    },
    {
      "cell_type": "markdown",
      "source": [
        "(x) WAP to add prime numbers in L"
      ],
      "metadata": {
        "id": "g7NhBoez9dRt"
      }
    },
    {
      "cell_type": "code",
      "source": [
        "def is_prime(num):\n",
        "    if num <= 1:\n",
        "        return False\n",
        "    for i in range(2, int(num//2 + 1)):\n",
        "        if num % i == 0:\n",
        "            return False\n",
        "    return True\n",
        "\n",
        "\n",
        "prime_sum = 0\n",
        "for num in L:\n",
        "        if is_prime(num):\n",
        "            prime_sum += num\n",
        "print(\"Prime sum is \",prime_sum)"
      ],
      "metadata": {
        "colab": {
          "base_uri": "https://localhost:8080/"
        },
        "id": "Qh4OUM3R9lh6",
        "outputId": "71df5133-8efb-4ebc-ed24-5ee0d17f9725"
      },
      "execution_count": null,
      "outputs": [
        {
          "output_type": "stream",
          "name": "stdout",
          "text": [
            "Prime sum is  0\n"
          ]
        }
      ]
    },
    {
      "cell_type": "markdown",
      "source": [
        "(xi) WAP to clear all the elements in L"
      ],
      "metadata": {
        "id": "EnmhAJwD-hig"
      }
    },
    {
      "cell_type": "code",
      "source": [
        "L.clear()\n",
        "print(L)"
      ],
      "metadata": {
        "colab": {
          "base_uri": "https://localhost:8080/"
        },
        "id": "KPM2c3kl-pLL",
        "outputId": "58e9b025-0c54-41e5-bb9a-024e87bae74b"
      },
      "execution_count": null,
      "outputs": [
        {
          "output_type": "stream",
          "name": "stdout",
          "text": [
            "[]\n"
          ]
        }
      ]
    },
    {
      "cell_type": "markdown",
      "source": [
        "(xii) WAP to delete the list"
      ],
      "metadata": {
        "id": "gqQbVKoZ-tYR"
      }
    },
    {
      "cell_type": "code",
      "source": [
        "del L\n",
        "print(L)"
      ],
      "metadata": {
        "colab": {
          "base_uri": "https://localhost:8080/",
          "height": 164
        },
        "id": "VJQ2BBYx-w9T",
        "outputId": "31144bd6-bc43-4fc3-a013-fbcd57c90eb0"
      },
      "execution_count": null,
      "outputs": [
        {
          "output_type": "error",
          "ename": "NameError",
          "evalue": "name 'L' is not defined",
          "traceback": [
            "\u001b[0;31m---------------------------------------------------------------------------\u001b[0m",
            "\u001b[0;31mNameError\u001b[0m                                 Traceback (most recent call last)",
            "\u001b[0;32m<ipython-input-34-a090824c5da0>\u001b[0m in \u001b[0;36m<cell line: 2>\u001b[0;34m()\u001b[0m\n\u001b[1;32m      1\u001b[0m \u001b[0;32mdel\u001b[0m \u001b[0mL\u001b[0m\u001b[0;34m\u001b[0m\u001b[0;34m\u001b[0m\u001b[0m\n\u001b[0;32m----> 2\u001b[0;31m \u001b[0mprint\u001b[0m\u001b[0;34m(\u001b[0m\u001b[0mL\u001b[0m\u001b[0;34m)\u001b[0m\u001b[0;34m\u001b[0m\u001b[0;34m\u001b[0m\u001b[0m\n\u001b[0m",
            "\u001b[0;31mNameError\u001b[0m: name 'L' is not defined"
          ]
        }
      ]
    },
    {
      "cell_type": "markdown",
      "source": [
        "# **Question 2**"
      ],
      "metadata": {
        "id": "Knjk09xW-2cb"
      }
    },
    {
      "cell_type": "code",
      "source": [
        "D={1:5.6,2:7.8,3:6.6,4:8.7,5:7.7}\n",
        "print(D)"
      ],
      "metadata": {
        "colab": {
          "base_uri": "https://localhost:8080/"
        },
        "id": "BYHFIjco_NBb",
        "outputId": "4621046e-c35f-48e0-bd11-5918d44f21ff"
      },
      "execution_count": null,
      "outputs": [
        {
          "output_type": "stream",
          "name": "stdout",
          "text": [
            "{1: 5.6, 2: 7.8, 3: 6.6, 4: 8.7, 5: 7.7}\n"
          ]
        }
      ]
    },
    {
      "cell_type": "markdown",
      "source": [
        "(i) WAP to add new entry in D with key=8 and value=8.8"
      ],
      "metadata": {
        "id": "Gl3sVV9z-6ji"
      }
    },
    {
      "cell_type": "code",
      "source": [
        "D[8]=8.8\n",
        "print(D)"
      ],
      "metadata": {
        "colab": {
          "base_uri": "https://localhost:8080/"
        },
        "id": "3CJxHO8j_MT7",
        "outputId": "8659f61f-3458-477a-e1f4-8225688a9810"
      },
      "execution_count": null,
      "outputs": [
        {
          "output_type": "stream",
          "name": "stdout",
          "text": [
            "{1: 5.6, 2: 7.8, 3: 6.6, 4: 8.7, 5: 7.7, 8: 8.8}\n"
          ]
        }
      ]
    },
    {
      "cell_type": "markdown",
      "source": [
        "(ii) WAP to remove key=2"
      ],
      "metadata": {
        "id": "8g3JCl5V_l7K"
      }
    },
    {
      "cell_type": "code",
      "source": [
        "del D[2]\n",
        "print(D)"
      ],
      "metadata": {
        "colab": {
          "base_uri": "https://localhost:8080/"
        },
        "id": "JFXGyDEF_qM4",
        "outputId": "06be5913-c914-44ff-a0b4-080dd4202096"
      },
      "execution_count": null,
      "outputs": [
        {
          "output_type": "stream",
          "name": "stdout",
          "text": [
            "{1: 5.6, 3: 6.6, 4: 8.7, 5: 7.7, 8: 8.8}\n"
          ]
        }
      ]
    },
    {
      "cell_type": "markdown",
      "source": [
        "(iii) WAP to check 6 key is present in D"
      ],
      "metadata": {
        "id": "8t3T2Qr9_vuV"
      }
    },
    {
      "cell_type": "code",
      "source": [
        "if(6 in D):\n",
        "  print(\"Present\")\n",
        "else:\n",
        "  print(\"Not present\")"
      ],
      "metadata": {
        "colab": {
          "base_uri": "https://localhost:8080/"
        },
        "id": "j2B45n7X_3rx",
        "outputId": "274a9c16-9832-43fa-cccf-0676cf079cd5"
      },
      "execution_count": null,
      "outputs": [
        {
          "output_type": "stream",
          "name": "stdout",
          "text": [
            "Not present\n"
          ]
        }
      ]
    },
    {
      "cell_type": "markdown",
      "source": [
        "(iv) WAP to count number of elements present in D"
      ],
      "metadata": {
        "id": "eX12G9x0ADlR"
      }
    },
    {
      "cell_type": "code",
      "source": [
        "print(len(D))"
      ],
      "metadata": {
        "colab": {
          "base_uri": "https://localhost:8080/"
        },
        "id": "63cEw7MNATB5",
        "outputId": "87df055a-5eb5-4fe3-c2f3-b9e204921574"
      },
      "execution_count": null,
      "outputs": [
        {
          "output_type": "stream",
          "name": "stdout",
          "text": [
            "5\n"
          ]
        }
      ]
    },
    {
      "cell_type": "markdown",
      "source": [
        "(v) WAP to add all the values present in D"
      ],
      "metadata": {
        "id": "ccA5a_WvAXsp"
      }
    },
    {
      "cell_type": "code",
      "source": [
        "print(\"Sum is \",sum(D.values()))"
      ],
      "metadata": {
        "colab": {
          "base_uri": "https://localhost:8080/"
        },
        "id": "WximkrlyAfbQ",
        "outputId": "a175c77b-8e4d-42e6-f4b0-423e62022244"
      },
      "execution_count": null,
      "outputs": [
        {
          "output_type": "stream",
          "name": "stdout",
          "text": [
            "Sum is  37.4\n"
          ]
        }
      ]
    },
    {
      "cell_type": "markdown",
      "source": [
        "(vi) WAP to update the value of 3 to 7.1"
      ],
      "metadata": {
        "id": "9P-TJgxVAs0p"
      }
    },
    {
      "cell_type": "code",
      "source": [
        "D[3]=7.1\n",
        "print(D)"
      ],
      "metadata": {
        "colab": {
          "base_uri": "https://localhost:8080/"
        },
        "id": "1OWyOXi8AzFl",
        "outputId": "d2321dfa-cc4d-42a0-995f-c0d29206dd08"
      },
      "execution_count": null,
      "outputs": [
        {
          "output_type": "stream",
          "name": "stdout",
          "text": [
            "{1: 5.6, 3: 7.1, 4: 8.7, 5: 7.7, 8: 8.8}\n"
          ]
        }
      ]
    },
    {
      "cell_type": "markdown",
      "source": [
        "(vii) WAP to clear the dictionary"
      ],
      "metadata": {
        "id": "y5-M4O0HA352"
      }
    },
    {
      "cell_type": "code",
      "source": [
        "D.clear()\n",
        "print(D)"
      ],
      "metadata": {
        "colab": {
          "base_uri": "https://localhost:8080/"
        },
        "id": "34MYnXZgA8xV",
        "outputId": "c7a12acd-dc06-4bfa-8c89-e64bf9f0e552"
      },
      "execution_count": null,
      "outputs": [
        {
          "output_type": "stream",
          "name": "stdout",
          "text": [
            "{}\n"
          ]
        }
      ]
    },
    {
      "cell_type": "markdown",
      "source": [
        "# **Question 3**"
      ],
      "metadata": {
        "id": "1fNJOGfqBFlp"
      }
    },
    {
      "cell_type": "code",
      "source": [
        "S1=set([10,20,30,40,50,60])\n",
        "S2=set([40,50,60,70,80,90])"
      ],
      "metadata": {
        "id": "80hhG9m3Bps4"
      },
      "execution_count": null,
      "outputs": []
    },
    {
      "cell_type": "markdown",
      "source": [
        "(i) WAP to add 55 and 66 in set S1"
      ],
      "metadata": {
        "id": "rffnOr5OBYYN"
      }
    },
    {
      "cell_type": "code",
      "source": [
        "S1.add(55)\n",
        "S1.add(66)\n",
        "print(S1)"
      ],
      "metadata": {
        "colab": {
          "base_uri": "https://localhost:8080/"
        },
        "id": "Bqk13C-jBgrY",
        "outputId": "0892e740-9ba5-4de0-db86-ea58b6ca3ef7"
      },
      "execution_count": null,
      "outputs": [
        {
          "output_type": "stream",
          "name": "stdout",
          "text": [
            "{66, 40, 10, 50, 20, 55, 60, 30}\n"
          ]
        }
      ]
    },
    {
      "cell_type": "markdown",
      "source": [
        "(ii) WAP too remove 10 and 30 from set S1"
      ],
      "metadata": {
        "id": "FiD4uCm4B6LT"
      }
    },
    {
      "cell_type": "code",
      "source": [
        "S1.remove(10)\n",
        "S1.remove(30)\n",
        "print(S1)"
      ],
      "metadata": {
        "colab": {
          "base_uri": "https://localhost:8080/"
        },
        "id": "7Q-t9FgUCArY",
        "outputId": "c6231286-4b4b-4763-a6cc-42502a574759"
      },
      "execution_count": null,
      "outputs": [
        {
          "output_type": "stream",
          "name": "stdout",
          "text": [
            "{66, 40, 50, 20, 55, 60}\n"
          ]
        }
      ]
    },
    {
      "cell_type": "markdown",
      "source": [
        "(iii) WAP to check whether 40 is present in set  S1"
      ],
      "metadata": {
        "id": "8AGy-sXuCIa6"
      }
    },
    {
      "cell_type": "code",
      "source": [
        "if(40 in S1):\n",
        "  print(\"Present\")\n",
        "else:\n",
        "  print(\"Not present\")"
      ],
      "metadata": {
        "colab": {
          "base_uri": "https://localhost:8080/"
        },
        "id": "IZndUZfBCQUZ",
        "outputId": "da004540-dfb4-40b2-cbb6-12f232820351"
      },
      "execution_count": null,
      "outputs": [
        {
          "output_type": "stream",
          "name": "stdout",
          "text": [
            "Present\n"
          ]
        }
      ]
    },
    {
      "cell_type": "markdown",
      "source": [
        "(iv) WAP to find union between S1 and S2"
      ],
      "metadata": {
        "id": "8-cniCk7CXnp"
      }
    },
    {
      "cell_type": "code",
      "source": [
        "print(S1.union(S2))"
      ],
      "metadata": {
        "colab": {
          "base_uri": "https://localhost:8080/"
        },
        "id": "pRsfU_nJCeQA",
        "outputId": "c392b21f-d3d7-4391-ee9b-167aa8ed0da9"
      },
      "execution_count": null,
      "outputs": [
        {
          "output_type": "stream",
          "name": "stdout",
          "text": [
            "{66, 70, 40, 80, 50, 20, 55, 90, 60}\n"
          ]
        }
      ]
    },
    {
      "cell_type": "markdown",
      "source": [
        "(v) WAP to find intersection between S1 and S2"
      ],
      "metadata": {
        "id": "quTKYZNsCoUw"
      }
    },
    {
      "cell_type": "code",
      "source": [
        "print(S1.intersection(S2))"
      ],
      "metadata": {
        "colab": {
          "base_uri": "https://localhost:8080/"
        },
        "id": "-2aswASoCrpA",
        "outputId": "22f625aa-496c-45a4-d407-ecdf4c1240a8"
      },
      "execution_count": null,
      "outputs": [
        {
          "output_type": "stream",
          "name": "stdout",
          "text": [
            "{40, 50, 60}\n"
          ]
        }
      ]
    },
    {
      "cell_type": "markdown",
      "source": [
        "(vi) WAP to find S1-S2"
      ],
      "metadata": {
        "id": "YuZZpc0bCyfn"
      }
    },
    {
      "cell_type": "code",
      "source": [
        "print(S1-S2)"
      ],
      "metadata": {
        "colab": {
          "base_uri": "https://localhost:8080/"
        },
        "id": "AlNad3i9C2n9",
        "outputId": "343d3394-5593-4bfa-b6ba-e73759688cde"
      },
      "execution_count": null,
      "outputs": [
        {
          "output_type": "stream",
          "name": "stdout",
          "text": [
            "{66, 20, 55}\n"
          ]
        }
      ]
    },
    {
      "cell_type": "markdown",
      "source": [
        "# **Question 4**"
      ],
      "metadata": {
        "id": "j40WdDLsDBul"
      }
    },
    {
      "cell_type": "markdown",
      "source": [
        "(i) WAP to print 100 random strings whose length between 6 and 8"
      ],
      "metadata": {
        "id": "iz5Nai0gDIJ4"
      }
    },
    {
      "cell_type": "code",
      "source": [],
      "metadata": {
        "colab": {
          "base_uri": "https://localhost:8080/"
        },
        "id": "mTFFHhX3DU-b",
        "outputId": "ff77c2f5-4827-4c33-9b5a-a4976b3451b7"
      },
      "execution_count": null,
      "outputs": [
        {
          "output_type": "stream",
          "name": "stdout",
          "text": [
            "hahKaS\n",
            "DPhiAn\n",
            "diGPow\n",
            "RHHZVu\n",
            "lnpuNU\n",
            "XNgKoL\n",
            "IswtuW\n",
            "HVInol\n",
            "hdpZfq\n",
            "ejoUZI\n",
            "xcHysk\n",
            "yCQAnP\n",
            "tkqmHz\n",
            "mYUceT\n",
            "fjyiQZ\n",
            "XdCRyQ\n",
            "vrcpOp\n",
            "qBxnjV\n",
            "eJUwwJ\n",
            "sJTJQa\n",
            "DIBGhN\n",
            "reeApY\n",
            "iufMIu\n",
            "TOHaLi\n",
            "tQYMvg\n",
            "DZRQHZ\n",
            "dUGuGc\n",
            "ukVEhA\n",
            "PCqqBv\n",
            "wibLvd\n",
            "pRvPjx\n",
            "bkAbyZ\n",
            "VzhTGd\n",
            "woyiBi\n",
            "VKQXxq\n",
            "aLgxai\n",
            "QngBUu\n",
            "BJDsdz\n",
            "IOYIqj\n",
            "EWMLSK\n",
            "xfSbMr\n",
            "jkSdiG\n",
            "cCoZqb\n",
            "awIeIS\n",
            "tsWYJm\n",
            "udtWaK\n",
            "shHpOp\n",
            "UMjLUh\n",
            "TSEyOo\n",
            "rxrgAH\n",
            "kvvWAh\n",
            "naTKxx\n",
            "rpVHyW\n",
            "jgkGsU\n",
            "ARrYWu\n",
            "uSjeUJ\n",
            "YCeKdZ\n",
            "FiyMDY\n",
            "TwHwYo\n",
            "xEHpjg\n",
            "cjdyDu\n",
            "meKwfA\n",
            "EHjjHr\n",
            "XZjXGe\n",
            "BwJRRS\n",
            "XGXHAk\n",
            "bYiwlk\n",
            "XtvViD\n",
            "SOOUsh\n",
            "szCXEG\n",
            "JBRElK\n",
            "tLPdaA\n",
            "kMYyIl\n",
            "OUSVyh\n",
            "UJptZP\n",
            "knuQet\n",
            "FaPrRY\n",
            "jjBqkr\n",
            "OkRFWO\n",
            "yBnpKM\n",
            "OJIvEG\n",
            "Utvryz\n",
            "goOqEN\n",
            "EDGrRj\n",
            "AuhcMG\n",
            "uajpoJ\n",
            "jjVlEQ\n",
            "dSozrO\n",
            "hFADdu\n",
            "DYEkAo\n",
            "ONynQj\n",
            "zgqBoc\n",
            "ySubtX\n",
            "IVRpYR\n",
            "zApjgr\n",
            "lSLSpT\n",
            "DXiEhR\n",
            "TTpkED\n",
            "HAeMOG\n",
            "OKDkvz\n"
          ]
        }
      ]
    },
    {
      "cell_type": "code",
      "source": [
        "import string as s\n",
        "import random as r\n",
        "for i in range(100):\n",
        "  length=r.randint(6, 8)\n",
        "  rString = ''. join(r.choice(s.ascii_lowercase)\n",
        "  for j in range(length))\n",
        "  print(rString)"
      ],
      "metadata": {
        "colab": {
          "base_uri": "https://localhost:8080/"
        },
        "id": "e4KnepXAf_KM",
        "outputId": "0046e5f3-9742-4d53-bf21-2e725ab8f2f0"
      },
      "execution_count": 3,
      "outputs": [
        {
          "output_type": "stream",
          "name": "stdout",
          "text": [
            "mifcdx\n",
            "eswkqsa\n",
            "dpioog\n",
            "alryvskx\n",
            "bbibglwp\n",
            "hryvby\n",
            "gybzvkg\n",
            "eoikmg\n",
            "padkzz\n",
            "tdphflz\n",
            "qhuaycwt\n",
            "aydstko\n",
            "zfdboi\n",
            "vvdnsl\n",
            "ejvddjt\n",
            "drbhebql\n",
            "hkedvl\n",
            "xaqpjt\n",
            "ybiitg\n",
            "olqctm\n",
            "zaselusn\n",
            "nfbnhj\n",
            "krngwqt\n",
            "nzthtvvp\n",
            "sihkdsp\n",
            "bzyqwg\n",
            "ibucixet\n",
            "ldkwngwt\n",
            "boyudip\n",
            "upbkhvc\n",
            "vzoabl\n",
            "cezapa\n",
            "drgjma\n",
            "anzhyyz\n",
            "cmnsnc\n",
            "ogelrre\n",
            "bmnxxd\n",
            "yhifel\n",
            "twluqx\n",
            "svejbz\n",
            "dqckug\n",
            "zqdaoax\n",
            "oidfvmro\n",
            "ojpugj\n",
            "ujckudsw\n",
            "oofcsra\n",
            "dvwuaz\n",
            "tpozfxsa\n",
            "jokvhrqf\n",
            "lsebvxx\n",
            "ydmcdr\n",
            "qtofrdv\n",
            "geqtts\n",
            "fgxvfzfa\n",
            "tfdmcr\n",
            "ngmnzem\n",
            "ourvwupy\n",
            "gchvdbhw\n",
            "gwyblnez\n",
            "nsysror\n",
            "tfysxnd\n",
            "xwknmqr\n",
            "uvutezql\n",
            "kniusf\n",
            "uarijx\n",
            "fpebrn\n",
            "srenorm\n",
            "hgtakv\n",
            "gfngfx\n",
            "unvtbpo\n",
            "bjqykqpo\n",
            "sxamao\n",
            "dkuobx\n",
            "ericszg\n",
            "ihbbba\n",
            "wnpbqofj\n",
            "jnjspnh\n",
            "mfmtxk\n",
            "gyjobwmc\n",
            "wsoirkwb\n",
            "qzqyqdut\n",
            "eulvwy\n",
            "vdizzj\n",
            "rojhbwps\n",
            "uhqgvibf\n",
            "nsuwxl\n",
            "claeysu\n",
            "dgcrzdjh\n",
            "njypdnuj\n",
            "hilholsu\n",
            "mjspbkz\n",
            "euoumx\n",
            "uxdknt\n",
            "igjdhh\n",
            "xaeizm\n",
            "vpyuodxf\n",
            "rqyqzt\n",
            "rkmeqhj\n",
            "nczforxv\n",
            "ryibyr\n"
          ]
        }
      ]
    },
    {
      "cell_type": "markdown",
      "source": [
        "(ii) WAP to print all prime numbers between 600 and 800"
      ],
      "metadata": {
        "id": "lxc9nDt8yFEt"
      }
    },
    {
      "cell_type": "code",
      "source": [
        "for num in range(600, 801):\n",
        "        for i in range(2, int(num//2) + 1):\n",
        "            if (num % i) == 0:\n",
        "                break\n",
        "        else:\n",
        "            print(num)"
      ],
      "metadata": {
        "colab": {
          "base_uri": "https://localhost:8080/"
        },
        "id": "jisYOokPgGQB",
        "outputId": "e674f45a-54aa-4165-8379-53e963b30a91"
      },
      "execution_count": 4,
      "outputs": [
        {
          "output_type": "stream",
          "name": "stdout",
          "text": [
            "601\n",
            "607\n",
            "613\n",
            "617\n",
            "619\n",
            "631\n",
            "641\n",
            "643\n",
            "647\n",
            "653\n",
            "659\n",
            "661\n",
            "673\n",
            "677\n",
            "683\n",
            "691\n",
            "701\n",
            "709\n",
            "719\n",
            "727\n",
            "733\n",
            "739\n",
            "743\n",
            "751\n",
            "757\n",
            "761\n",
            "769\n",
            "773\n",
            "787\n",
            "797\n"
          ]
        }
      ]
    },
    {
      "cell_type": "markdown",
      "source": [
        "(iii) WAP to print all numbers between 100 and 1000 that are divisible by 7 and 9"
      ],
      "metadata": {
        "id": "4TCso1cGy9ep"
      }
    },
    {
      "cell_type": "code",
      "source": [
        "for i in range(100,1001):\n",
        "  if(i%7==0 and i%9==0):\n",
        "    print(i)"
      ],
      "metadata": {
        "colab": {
          "base_uri": "https://localhost:8080/"
        },
        "id": "Ui7BPzgPzE9a",
        "outputId": "19dffe0d-c2e9-4fe9-86be-3b7600750ba0"
      },
      "execution_count": 6,
      "outputs": [
        {
          "output_type": "stream",
          "name": "stdout",
          "text": [
            "126\n",
            "189\n",
            "252\n",
            "315\n",
            "378\n",
            "441\n",
            "504\n",
            "567\n",
            "630\n",
            "693\n",
            "756\n",
            "819\n",
            "882\n",
            "945\n"
          ]
        }
      ]
    },
    {
      "cell_type": "markdown",
      "source": [
        "# **Question 5**"
      ],
      "metadata": {
        "id": "ghNIg-GJzhQO"
      }
    },
    {
      "cell_type": "markdown",
      "source": [
        "(i)  Common numbers in the two lists"
      ],
      "metadata": {
        "id": "NOol7odE0CW2"
      }
    },
    {
      "cell_type": "code",
      "source": [
        "import random as r\n",
        "L1=r.sample(range(10,30),10)\n",
        "L2=r.sample(range(10,30),10)\n",
        "print(L1)\n",
        "print(L2)\n",
        "common=[value for value in L1 if value in L2]\n",
        "print(\"common elements = \",common)"
      ],
      "metadata": {
        "colab": {
          "base_uri": "https://localhost:8080/"
        },
        "id": "71Dqs6CjkUM6",
        "outputId": "93aa1254-0710-4c78-c28e-77435a4718cf"
      },
      "execution_count": 14,
      "outputs": [
        {
          "output_type": "stream",
          "name": "stdout",
          "text": [
            "[27, 29, 17, 15, 14, 25, 12, 23, 28, 22]\n",
            "[24, 26, 11, 10, 12, 27, 19, 21, 25, 20]\n",
            "common elements =  [27, 25, 12]\n"
          ]
        }
      ]
    },
    {
      "cell_type": "markdown",
      "source": [
        "(ii)  Unique numbers in both the list"
      ],
      "metadata": {
        "id": "tVqUC07u0HCu"
      }
    },
    {
      "cell_type": "code",
      "source": [
        "unique=[value for value in L1+L2]\n",
        "print('Unique values : ',unique)"
      ],
      "metadata": {
        "colab": {
          "base_uri": "https://localhost:8080/"
        },
        "id": "Py9AqvKT0KUA",
        "outputId": "ad5b6a94-f2fb-40b9-af28-b52822acf570"
      },
      "execution_count": 15,
      "outputs": [
        {
          "output_type": "stream",
          "name": "stdout",
          "text": [
            "Unique values :  [27, 29, 17, 15, 14, 25, 12, 23, 28, 22, 24, 26, 11, 10, 12, 27, 19, 21, 25, 20]\n"
          ]
        }
      ]
    },
    {
      "cell_type": "markdown",
      "source": [],
      "metadata": {
        "id": "rOMR6Zun0ssM"
      }
    },
    {
      "cell_type": "markdown",
      "source": [
        "(iii) Minimum in both the list"
      ],
      "metadata": {
        "id": "yv7al6Cak2Yg"
      }
    },
    {
      "cell_type": "code",
      "source": [
        "minimum=min(min(L1),min(L2))\n",
        "print(\"Minimum =\",minimum)"
      ],
      "metadata": {
        "colab": {
          "base_uri": "https://localhost:8080/"
        },
        "id": "XcySyneJkweA",
        "outputId": "63817067-a1d3-484b-a318-a6db0d33f471"
      },
      "execution_count": 16,
      "outputs": [
        {
          "output_type": "stream",
          "name": "stdout",
          "text": [
            "Minimum = 10\n"
          ]
        }
      ]
    },
    {
      "cell_type": "markdown",
      "source": [
        "(iv) Maximum in both the list"
      ],
      "metadata": {
        "id": "w8RUuPg003pP"
      }
    },
    {
      "cell_type": "code",
      "source": [
        "maximum=max(max(L1),max(L2))\n",
        "print(\"Maximum element=\",maximum)"
      ],
      "metadata": {
        "colab": {
          "base_uri": "https://localhost:8080/"
        },
        "outputId": "cdafd289-b573-4fbc-922d-3065a0fd3638",
        "id": "ksoU_6cI04aR"
      },
      "execution_count": 18,
      "outputs": [
        {
          "output_type": "stream",
          "name": "stdout",
          "text": [
            "Maximum element= 29\n"
          ]
        }
      ]
    },
    {
      "cell_type": "markdown",
      "source": [
        "(v) Sum of both the lists"
      ],
      "metadata": {
        "id": "UcgvOcez1YaS"
      }
    },
    {
      "cell_type": "code",
      "source": [],
      "metadata": {
        "id": "Im5a5e8l1a-o"
      },
      "execution_count": null,
      "outputs": []
    },
    {
      "cell_type": "code",
      "source": [
        "res = sum(L1) + sum(L2)\n",
        "print('Sum is',res)"
      ],
      "metadata": {
        "colab": {
          "base_uri": "https://localhost:8080/"
        },
        "collapsed": true,
        "id": "MAT0pUVSlB8f",
        "outputId": "3c71a125-a144-49ff-dd80-09ab5b64e8b8"
      },
      "execution_count": 19,
      "outputs": [
        {
          "output_type": "stream",
          "name": "stdout",
          "text": [
            "Sum is 407\n"
          ]
        }
      ]
    },
    {
      "cell_type": "markdown",
      "source": [
        "# **Question 6**"
      ],
      "metadata": {
        "id": "guE4MAzv1uyM"
      }
    },
    {
      "cell_type": "markdown",
      "source": [
        "###  WAP to create a list of 100 random numbers between 100 and 900. Count and print the:\n"
      ],
      "metadata": {
        "id": "-CXSwmkZyjI9"
      }
    },
    {
      "cell_type": "markdown",
      "source": [
        "(i) All odd numbers"
      ],
      "metadata": {
        "id": "TSjBnoGL2MI6"
      }
    },
    {
      "cell_type": "code",
      "source": [
        "import random as r\n",
        "L=r.sample(range(100,900),100)\n",
        "print(\"List 1 : \",L)\n",
        "L2=[]\n",
        "for i in L:\n",
        "  if(i%2!=0):\n",
        "    L2.append(i)\n",
        "print(\"List 2 : \",L2)\n",
        "print(len(L2))"
      ],
      "metadata": {
        "colab": {
          "base_uri": "https://localhost:8080/"
        },
        "id": "Ar-ZCkkd10sr",
        "outputId": "e5a4bd01-a215-45f4-abc6-d3a6ff4a0d26"
      },
      "execution_count": 23,
      "outputs": [
        {
          "output_type": "stream",
          "name": "stdout",
          "text": [
            "List 1 :  [827, 482, 863, 651, 803, 746, 616, 510, 166, 127, 760, 772, 789, 767, 838, 849, 426, 106, 347, 323, 896, 609, 692, 461, 550, 453, 778, 114, 153, 141, 397, 677, 592, 241, 761, 388, 115, 266, 342, 706, 873, 326, 579, 418, 627, 213, 777, 757, 257, 868, 884, 483, 671, 200, 100, 321, 605, 301, 193, 595, 795, 101, 104, 344, 240, 443, 294, 187, 600, 123, 363, 451, 477, 154, 547, 454, 369, 635, 575, 835, 346, 337, 367, 484, 814, 476, 134, 209, 485, 637, 674, 780, 236, 401, 498, 226, 243, 332, 378, 846]\n",
            "List 2 :  [827, 863, 651, 803, 127, 789, 767, 849, 347, 323, 609, 461, 453, 153, 141, 397, 677, 241, 761, 115, 873, 579, 627, 213, 777, 757, 257, 483, 671, 321, 605, 301, 193, 595, 795, 101, 443, 187, 123, 363, 451, 477, 547, 369, 635, 575, 835, 337, 367, 209, 485, 637, 401, 243]\n",
            "54\n"
          ]
        }
      ]
    },
    {
      "cell_type": "markdown",
      "source": [
        "(ii) All even numbers"
      ],
      "metadata": {
        "id": "Jsf1g3_L22Xq"
      }
    },
    {
      "cell_type": "code",
      "source": [],
      "metadata": {
        "id": "3rsVQKHG26Er"
      },
      "execution_count": 23,
      "outputs": []
    },
    {
      "cell_type": "code",
      "source": [
        "import random as r\n",
        "L=r.sample(range(100,900),100)\n",
        "print('List 1 : \",L)\n",
        "L2=[]\n",
        "for i in L:\n",
        "  if(i%2==0):\n",
        "    L2.append(i)\n",
        "print(\"List 3 : \",L2)\n",
        "print(len(L2))"
      ],
      "metadata": {
        "colab": {
          "base_uri": "https://localhost:8080/"
        },
        "outputId": "d23ef347-f9c7-480f-eced-f340d9dda300",
        "id": "1sCVJPJS27et"
      },
      "execution_count": 22,
      "outputs": [
        {
          "output_type": "stream",
          "name": "stdout",
          "text": [
            "[718, 133, 739, 498, 492, 361, 812, 309, 149, 110, 505, 304, 621, 703, 878, 214, 857, 644, 628, 440, 406, 656, 484, 489, 672, 358, 344, 218, 441, 166, 838, 507, 225, 353, 343, 836, 305, 480, 707, 134, 653, 791, 542, 471, 317, 525, 584, 424, 828, 170, 713, 503, 864, 688, 261, 898, 282, 676, 597, 598, 125, 433, 224, 462, 246, 513, 619, 143, 137, 717, 737, 451, 219, 643, 660, 478, 757, 383, 623, 629, 355, 824, 259, 826, 569, 130, 608, 328, 741, 616, 338, 306, 412, 668, 842, 184, 650, 538, 342, 778]\n",
            "[718, 498, 492, 812, 110, 304, 878, 214, 644, 628, 440, 406, 656, 484, 672, 358, 344, 218, 166, 838, 836, 480, 134, 542, 584, 424, 828, 170, 864, 688, 898, 282, 676, 598, 224, 462, 246, 660, 478, 824, 826, 130, 608, 328, 616, 338, 306, 412, 668, 842, 184, 650, 538, 342, 778]\n",
            "55\n"
          ]
        }
      ]
    },
    {
      "cell_type": "markdown",
      "source": [
        "(iii) All prime numbers"
      ],
      "metadata": {
        "id": "WkHqecQw35Ng"
      }
    },
    {
      "cell_type": "code",
      "source": [],
      "metadata": {
        "id": "65kVmk7139r8"
      },
      "execution_count": null,
      "outputs": []
    },
    {
      "cell_type": "code",
      "source": [
        "import random as r\n",
        "L=r.sample(range(100,900),100)\n",
        "L2 = []\n",
        "for i in L:\n",
        "  flag = 0\n",
        "  for j in range(2, int(i//2) + 1):\n",
        "     if i % j == 0:\n",
        "       flag = 1\n",
        "       break\n",
        "  if flag == 0:\n",
        "    L2.append(i)\n",
        "\n",
        "print (\"Prime numbers in list = \",L2)"
      ],
      "metadata": {
        "colab": {
          "base_uri": "https://localhost:8080/"
        },
        "id": "zV-BjhHSzKVr",
        "outputId": "4aebb8ca-ea7d-49b8-8f98-5904822e5fda"
      },
      "execution_count": 28,
      "outputs": [
        {
          "output_type": "stream",
          "name": "stdout",
          "text": [
            "Prime numbers in list =  [347, 173, 331, 307, 563, 641, 619, 761, 487, 421, 379, 653, 457, 349]\n"
          ]
        }
      ]
    },
    {
      "cell_type": "markdown",
      "source": [
        "# **Question 7**"
      ],
      "metadata": {
        "id": "q0WLbjly42Di"
      }
    },
    {
      "cell_type": "markdown",
      "source": [
        "WAP to read all the keys and values from dictionary and write to the file in the given below format.\n",
        "Key1, Value1\n",
        "Key2, Value2\n",
        "Key3, Value3"
      ],
      "metadata": {
        "id": "hqlh8HeN5XgV"
      }
    },
    {
      "cell_type": "code",
      "source": [
        "D = {1: \"One\", 2: \"Two\", 3: \"Three\", 4: \"Four\", 5: \"Five\"}\n",
        "with open(\"output.txt\", \"w\") as file:\n",
        "    for key, value in D.items():\n",
        "        file.write(f\"{key}, {value} \\n\")"
      ],
      "metadata": {
        "id": "UzoudzVb5ptq"
      },
      "execution_count": 37,
      "outputs": []
    },
    {
      "cell_type": "markdown",
      "source": [
        "# **Question 8**"
      ],
      "metadata": {
        "id": "4PKugUz96I2d"
      }
    },
    {
      "cell_type": "markdown",
      "source": [
        "WAP to count the length of reach element from a list and write to the file in the given below format: One, 3 Two, 3 Four, 4"
      ],
      "metadata": {
        "id": "GJDfgHsW6MfK"
      }
    },
    {
      "cell_type": "code",
      "source": [
        "L = [\"One\", \"Two\", \"Three\", \"Four\", \"Five\"]\n",
        "with open(\"output2.txt\", \"w\") as file:\n",
        "    for element in L:\n",
        "        length = len(element)\n",
        "        file.write(f\"{element}, {length} \\n\")"
      ],
      "metadata": {
        "id": "c9SPw7M06TTy"
      },
      "execution_count": 38,
      "outputs": []
    },
    {
      "cell_type": "markdown",
      "source": [
        "# **Question 9**"
      ],
      "metadata": {
        "id": "GqclDvPd65TH"
      }
    },
    {
      "cell_type": "markdown",
      "source": [
        "Write to the file 100 random strings whose length between 10 and 15"
      ],
      "metadata": {
        "id": "Ye_lDLEC69Rc"
      }
    },
    {
      "cell_type": "code",
      "source": [
        "import random\n",
        "import string\n",
        "def generate_random_string(length):\n",
        "    letters = string.ascii_letters\n",
        "    return ''.join(random.choice(letters) for i in range(length))\n",
        "\n",
        "with open(\"output3.txt\", \"w\") as file:\n",
        "    for _ in range(100):\n",
        "        length = random.randint(10, 15)\n",
        "        random_string = generate_random_string(length)\n",
        "        file.write(random_string + \"\\n\")\n"
      ],
      "metadata": {
        "id": "sorA3jdY0Jgz"
      },
      "execution_count": 40,
      "outputs": []
    },
    {
      "cell_type": "markdown",
      "source": [
        "# **Question 10**"
      ],
      "metadata": {
        "id": "Bc9i7TaK7bjW"
      }
    },
    {
      "cell_type": "markdown",
      "source": [
        "Write to file all prime numbers between 600 and 800"
      ],
      "metadata": {
        "id": "xUOQNvXW7fMW"
      }
    },
    {
      "cell_type": "code",
      "source": [
        "def is_prime(n):\n",
        "    if n <= 1:\n",
        "        return False\n",
        "    if n == 2:\n",
        "        return True\n",
        "    if n % 2 == 0:\n",
        "        return False\n",
        "    max_divisor = int(n**0.5) + 1\n",
        "    for d in range(3, max_divisor, 2):\n",
        "        if n % d == 0:\n",
        "            return False\n",
        "    return True\n",
        "\n",
        "with open(\"prime_numbers.txt\", \"w\") as file:\n",
        "    for number in range(600, 801):\n",
        "        if is_prime(number):\n",
        "            file.write(f\"{number}\\n\")"
      ],
      "metadata": {
        "id": "UgFe-jFD7sin"
      },
      "execution_count": 42,
      "outputs": []
    },
    {
      "cell_type": "markdown",
      "source": [
        "# **Question 11**"
      ],
      "metadata": {
        "id": "XSB1CP1m-CR9"
      }
    },
    {
      "cell_type": "markdown",
      "source": [
        "WAP to calculate time taken by a program"
      ],
      "metadata": {
        "id": "moXsjEIb-GAd"
      }
    },
    {
      "cell_type": "code",
      "source": [
        "import time\n",
        "t1=time.time()\n",
        "for i in range(1000):\n",
        "  x=i\n",
        "t2=time.time()\n",
        "print(\"Time taken : \",t2-t1)"
      ],
      "metadata": {
        "colab": {
          "base_uri": "https://localhost:8080/"
        },
        "id": "I1bKkoS--ShL",
        "outputId": "0d6973c0-1389-4539-8c0d-72f15f49e521"
      },
      "execution_count": 43,
      "outputs": [
        {
          "output_type": "stream",
          "name": "stdout",
          "text": [
            "Time taken :  0.0002987384796142578\n"
          ]
        }
      ]
    },
    {
      "cell_type": "markdown",
      "source": [
        "# **Question 12**"
      ],
      "metadata": {
        "id": "AMzpTF32-9p8"
      }
    },
    {
      "cell_type": "markdown",
      "source": [
        "WAP to sort following number of elements in a list, calculate time taken and plot the graph."
      ],
      "metadata": {
        "id": "zMKzzxMt_Bsb"
      }
    },
    {
      "cell_type": "code",
      "source": [
        "# Number of elements in list        Time Taken\n",
        "\n",
        "# 5k                                  T1\n",
        "# 10k                                 T2\n",
        "# 15k                                 T3\n",
        "# 20k                                 T4\n",
        "# 25k                                 T5\n",
        "\n",
        "import time\n",
        "import random\n",
        "import matplotlib.pyplot as plt\n",
        "\n",
        "def generate_random_list(size):\n",
        "    return [random.randint(0, 100000) for _ in range(size)]\n",
        "\n",
        "def time_sorting(arr):\n",
        "    start_time = time.time()\n",
        "    sorted_arr = sorted(arr)\n",
        "    end_time = time.time()\n",
        "    return end_time - start_time\n",
        "\n",
        "list_sizes = [5000, 10000, 15000, 20000, 25000]\n",
        "times_taken = []\n",
        "\n",
        "for size in list_sizes:\n",
        "    random_list = generate_random_list(size)\n",
        "    time_taken = time_sorting(random_list)\n",
        "    times_taken.append(time_taken)\n",
        "    print(f\"Size: {size}, Time taken: {time_taken:.6f} seconds\")\n",
        "\n",
        "plt.figure(figsize=(10, 6))\n",
        "plt.plot(list_sizes, times_taken, marker='o', linestyle='-', color='b')\n",
        "plt.title('Time Taken to Sort Lists of Different Sizes')\n",
        "plt.xlabel('List Size')\n",
        "plt.ylabel('Time Taken (seconds)')\n",
        "plt.grid(True)\n",
        "plt.show()\n"
      ],
      "metadata": {
        "colab": {
          "base_uri": "https://localhost:8080/",
          "height": 655
        },
        "id": "EqjamMS7_HwE",
        "outputId": "57c270ba-847b-46ec-d8e7-9d5f535f000a"
      },
      "execution_count": 44,
      "outputs": [
        {
          "output_type": "stream",
          "name": "stdout",
          "text": [
            "Size: 5000, Time taken: 0.001102 seconds\n",
            "Size: 10000, Time taken: 0.001773 seconds\n",
            "Size: 15000, Time taken: 0.002938 seconds\n",
            "Size: 20000, Time taken: 0.003873 seconds\n",
            "Size: 25000, Time taken: 0.005428 seconds\n"
          ]
        },
        {
          "output_type": "display_data",
          "data": {
            "text/plain": [
              "<Figure size 1000x600 with 1 Axes>"
            ],
            "image/png": "[encoded data removed]"
          },
          "metadata": {}
        }
      ]
    },
    {
      "cell_type": "markdown",
      "source": [
        "# **Question 13**"
      ],
      "metadata": {
        "id": "Yeginxx_AemK"
      }
    },
    {
      "cell_type": "markdown",
      "source": [
        "WAP to create a dictionary of student marks in five subjects and you have to find the student having maximum and minimum average marks."
      ],
      "metadata": {
        "id": "g0p2TJ6x0YaZ"
      }
    },
    {
      "cell_type": "code",
      "source": [
        "student_marks = {\n",
        "    'Elon': [85, 90, 88, 92, 87],\n",
        "    'Mark': [78, 85, 80, 82, 75],\n",
        "    'Steve': [90, 92, 95, 88, 85],\n",
        "    'Bill': [80, 75, 82, 88, 90],\n",
        "    'Trump': [85, 86, 89, 90, 82]\n",
        "}\n",
        "\n",
        "average_marks = {name: sum(marks) / len(marks) for name, marks in student_marks.items()}\n",
        "\n",
        "max_avg_student = max(average_marks, key=average_marks.get)\n",
        "\n",
        "min_avg_student = min(average_marks, key=average_marks.get)\n",
        "\n",
        "print(f\"Student with maximum average marks: {max_avg_student}, Average marks: {average_marks[max_avg_student]}\")\n",
        "print(f\"Student with minimum average marks: {min_avg_student}, Average marks: {average_marks[min_avg_student]}\")"
      ],
      "metadata": {
        "colab": {
          "base_uri": "https://localhost:8080/"
        },
        "id": "wrPgqqc3AwAK",
        "outputId": "fe7464fd-1227-471d-c046-da6af5b604db"
      },
      "execution_count": 45,
      "outputs": [
        {
          "output_type": "stream",
          "name": "stdout",
          "text": [
            "Student with maximum average marks: Steve, Average marks: 90.0\n",
            "Student with minimum average marks: Mark, Average marks: 80.0\n"
          ]
        }
      ]
    }
  ]
}